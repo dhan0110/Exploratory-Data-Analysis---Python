{
 "cells": [
  {
   "cell_type": "markdown",
   "id": "eb1b9266",
   "metadata": {
    "papermill": {
     "duration": 0.013294,
     "end_time": "2022-07-20T21:59:59.727912",
     "exception": false,
     "start_time": "2022-07-20T21:59:59.714618",
     "status": "completed"
    },
    "tags": []
   },
   "source": [
    "# **About this notebook**:\n",
    "    \n",
    "    A Simple Analysis of the IIT-NIT category-wise cut-off data. \n",
    "    The source of data is from the https://cutoffs.iitr.ac.in/ data. \n",
    "    DataSet Citation: Rajdeep Ghosh. (2022). <i>IIT-NIT category-wise cutoff data</i> [Data set]. Kaggle. https://doi.org/10.34740/KAGGLE/DSV/3950564\n",
    "    \n",
    "**Note**: As per the source website, in the data for all previous years, only the final round Opening/Closing ranks are shown. For current year all the rounds available are shown. So a cumulative analysis on entire data aggregated over years (eg: avg. across years) might not project the actual cut-offs. "
   ]
  },
  {
   "cell_type": "markdown",
   "id": "5ad0dcd0",
   "metadata": {
    "papermill": {
     "duration": 0.012049,
     "end_time": "2022-07-20T21:59:59.751859",
     "exception": false,
     "start_time": "2022-07-20T21:59:59.739810",
     "status": "completed"
    },
    "tags": []
   },
   "source": [
    "### Let's begin by importing the required libraries"
   ]
  },
  {
   "cell_type": "code",
   "execution_count": 1,
   "id": "bc4f2033",
   "metadata": {
    "_cell_guid": "b1076dfc-b9ad-4769-8c92-a6c4dae69d19",
    "_uuid": "8f2839f25d086af736a60e9eeb907d3b93b6e0e5",
    "execution": {
     "iopub.execute_input": "2022-07-20T21:59:59.779616Z",
     "iopub.status.busy": "2022-07-20T21:59:59.778623Z",
     "iopub.status.idle": "2022-07-20T22:00:01.604076Z",
     "shell.execute_reply": "2022-07-20T22:00:01.602755Z"
    },
    "papermill": {
     "duration": 1.842789,
     "end_time": "2022-07-20T22:00:01.606843",
     "exception": false,
     "start_time": "2022-07-20T21:59:59.764054",
     "status": "completed"
    },
    "tags": []
   },
   "outputs": [
    {
     "ename": "ModuleNotFoundError",
     "evalue": "No module named 'plotly'",
     "output_type": "error",
     "traceback": [
      "\u001b[1;31m---------------------------------------------------------------------------\u001b[0m",
      "\u001b[1;31mModuleNotFoundError\u001b[0m                       Traceback (most recent call last)",
      "\u001b[1;32m~\\AppData\\Local\\Temp/ipykernel_19120/3054171460.py\u001b[0m in \u001b[0;36m<module>\u001b[1;34m\u001b[0m\n\u001b[0;32m      5\u001b[0m \u001b[1;32mimport\u001b[0m \u001b[0mnumpy\u001b[0m \u001b[1;32mas\u001b[0m \u001b[0mnp\u001b[0m \u001b[1;31m# linear algebra\u001b[0m\u001b[1;33m\u001b[0m\u001b[1;33m\u001b[0m\u001b[0m\n\u001b[0;32m      6\u001b[0m \u001b[1;32mimport\u001b[0m \u001b[0mpandas\u001b[0m \u001b[1;32mas\u001b[0m \u001b[0mpd\u001b[0m \u001b[1;31m# data processing, CSV file I/O (e.g. pd.read_csv)\u001b[0m\u001b[1;33m\u001b[0m\u001b[1;33m\u001b[0m\u001b[0m\n\u001b[1;32m----> 7\u001b[1;33m \u001b[1;32mimport\u001b[0m \u001b[0mplotly\u001b[0m\u001b[1;33m.\u001b[0m\u001b[0mexpress\u001b[0m \u001b[1;32mas\u001b[0m \u001b[0mpx\u001b[0m\u001b[1;33m\u001b[0m\u001b[1;33m\u001b[0m\u001b[0m\n\u001b[0m\u001b[0;32m      8\u001b[0m \u001b[1;33m\u001b[0m\u001b[0m\n\u001b[0;32m      9\u001b[0m \u001b[1;31m# Input data files are available in the read-only \"../input/\" directory\u001b[0m\u001b[1;33m\u001b[0m\u001b[1;33m\u001b[0m\u001b[0m\n",
      "\u001b[1;31mModuleNotFoundError\u001b[0m: No module named 'plotly'"
     ]
    }
   ],
   "source": [
    "# This Python 3 environment comes with many helpful analytics libraries installed\n",
    "# It is defined by the kaggle/python Docker image: https://github.com/kaggle/docker-python\n",
    "# For example, here's several helpful packages to load\n",
    "\n",
    "import numpy as np # linear algebra\n",
    "import pandas as pd # data processing, CSV file I/O (e.g. pd.read_csv)\n",
    "import plotly.express as px\n",
    "\n",
    "# Input data files are available in the read-only \"../input/\" directory\n",
    "# For example, running this (by clicking run or pressing Shift+Enter) will list all files under the input directory\n",
    "\n",
    "import os\n",
    "for dirname, _, filenames in os.walk('/kaggle/input'):\n",
    "    for filename in filenames:\n",
    "        print(os.path.join(dirname, filename))\n",
    "\n",
    "# You can write up to 20GB to the current directory (/kaggle/working/) that gets preserved as output when you create a version using \"Save & Run All\" \n",
    "# You can also write temporary files to /kaggle/temp/, but they won't be saved outside of the current session"
   ]
  },
  {
   "cell_type": "markdown",
   "id": "99d62e8c",
   "metadata": {
    "papermill": {
     "duration": 0.011772,
     "end_time": "2022-07-20T22:00:01.631138",
     "exception": false,
     "start_time": "2022-07-20T22:00:01.619366",
     "status": "completed"
    },
    "tags": []
   },
   "source": [
    "### 1. Create the Data Frame"
   ]
  },
  {
   "cell_type": "code",
   "execution_count": null,
   "id": "e8344224",
   "metadata": {
    "execution": {
     "iopub.execute_input": "2022-07-20T22:00:01.659255Z",
     "iopub.status.busy": "2022-07-20T22:00:01.658468Z",
     "iopub.status.idle": "2022-07-20T22:00:01.892756Z",
     "shell.execute_reply": "2022-07-20T22:00:01.891516Z"
    },
    "papermill": {
     "duration": 0.251767,
     "end_time": "2022-07-20T22:00:01.895390",
     "exception": false,
     "start_time": "2022-07-20T22:00:01.643623",
     "status": "completed"
    },
    "tags": []
   },
   "outputs": [],
   "source": [
    "cutoffs = pd.read_csv('/kaggle/input/iit-nit-data/data.csv')"
   ]
  },
  {
   "cell_type": "markdown",
   "id": "ad437f03",
   "metadata": {
    "papermill": {
     "duration": 0.012419,
     "end_time": "2022-07-20T22:00:01.920340",
     "exception": false,
     "start_time": "2022-07-20T22:00:01.907921",
     "status": "completed"
    },
    "tags": []
   },
   "source": [
    "### 2. Details of the data frame \n"
   ]
  },
  {
   "cell_type": "code",
   "execution_count": null,
   "id": "f4924e6f",
   "metadata": {
    "execution": {
     "iopub.execute_input": "2022-07-20T22:00:01.947041Z",
     "iopub.status.busy": "2022-07-20T22:00:01.946672Z",
     "iopub.status.idle": "2022-07-20T22:00:02.036046Z",
     "shell.execute_reply": "2022-07-20T22:00:02.034256Z"
    },
    "papermill": {
     "duration": 0.105457,
     "end_time": "2022-07-20T22:00:02.038636",
     "exception": false,
     "start_time": "2022-07-20T22:00:01.933179",
     "status": "completed"
    },
    "tags": []
   },
   "outputs": [],
   "source": [
    "cutoffs.info()"
   ]
  },
  {
   "cell_type": "markdown",
   "id": "5102e485",
   "metadata": {
    "papermill": {
     "duration": 0.015036,
     "end_time": "2022-07-20T22:00:02.066960",
     "exception": false,
     "start_time": "2022-07-20T22:00:02.051924",
     "status": "completed"
    },
    "tags": []
   },
   "source": [
    "### 3. Begin the Analysis!\n",
    "#### The years for which data is available:"
   ]
  },
  {
   "cell_type": "code",
   "execution_count": null,
   "id": "1ffa1286",
   "metadata": {
    "execution": {
     "iopub.execute_input": "2022-07-20T22:00:02.093940Z",
     "iopub.status.busy": "2022-07-20T22:00:02.093557Z",
     "iopub.status.idle": "2022-07-20T22:00:02.102702Z",
     "shell.execute_reply": "2022-07-20T22:00:02.101737Z"
    },
    "papermill": {
     "duration": 0.02492,
     "end_time": "2022-07-20T22:00:02.104998",
     "exception": false,
     "start_time": "2022-07-20T22:00:02.080078",
     "status": "completed"
    },
    "tags": []
   },
   "outputs": [],
   "source": [
    "list(cutoffs['year'].unique())"
   ]
  },
  {
   "cell_type": "markdown",
   "id": "74348a19",
   "metadata": {
    "papermill": {
     "duration": 0.012121,
     "end_time": "2022-07-20T22:00:02.129336",
     "exception": false,
     "start_time": "2022-07-20T22:00:02.117215",
     "status": "completed"
    },
    "tags": []
   },
   "source": [
    "#### The Institutes for which data is available"
   ]
  },
  {
   "cell_type": "code",
   "execution_count": null,
   "id": "5bf84870",
   "metadata": {
    "execution": {
     "iopub.execute_input": "2022-07-20T22:00:02.159257Z",
     "iopub.status.busy": "2022-07-20T22:00:02.158195Z",
     "iopub.status.idle": "2022-07-20T22:00:02.172367Z",
     "shell.execute_reply": "2022-07-20T22:00:02.170806Z"
    },
    "papermill": {
     "duration": 0.033169,
     "end_time": "2022-07-20T22:00:02.176067",
     "exception": false,
     "start_time": "2022-07-20T22:00:02.142898",
     "status": "completed"
    },
    "tags": []
   },
   "outputs": [],
   "source": [
    "cutoffs['institute_short'].unique()"
   ]
  },
  {
   "cell_type": "markdown",
   "id": "984fec99",
   "metadata": {
    "papermill": {
     "duration": 0.013483,
     "end_time": "2022-07-20T22:00:02.202087",
     "exception": false,
     "start_time": "2022-07-20T22:00:02.188604",
     "status": "completed"
    },
    "tags": []
   },
   "source": [
    "#### The No. of Colleges (IITs & NITs) which had offered / are offering a particular program.\n"
   ]
  },
  {
   "cell_type": "code",
   "execution_count": null,
   "id": "9abb74be",
   "metadata": {
    "execution": {
     "iopub.execute_input": "2022-07-20T22:00:02.230263Z",
     "iopub.status.busy": "2022-07-20T22:00:02.229089Z",
     "iopub.status.idle": "2022-07-20T22:00:02.278987Z",
     "shell.execute_reply": "2022-07-20T22:00:02.277492Z"
    },
    "papermill": {
     "duration": 0.066483,
     "end_time": "2022-07-20T22:00:02.281795",
     "exception": false,
     "start_time": "2022-07-20T22:00:02.215312",
     "status": "completed"
    },
    "tags": []
   },
   "outputs": [],
   "source": [
    "cutoffs[['degree_short','program_name','institute_short']].drop_duplicates().groupby(['degree_short','program_name']).size().reset_index(name='no_of_institutes')"
   ]
  },
  {
   "cell_type": "markdown",
   "id": "cabfdfca",
   "metadata": {
    "papermill": {
     "duration": 0.012633,
     "end_time": "2022-07-20T22:00:02.307099",
     "exception": false,
     "start_time": "2022-07-20T22:00:02.294466",
     "status": "completed"
    },
    "tags": []
   },
   "source": [
    "### No. of Colleges offering a particular program year-wise based on available data\n"
   ]
  },
  {
   "cell_type": "code",
   "execution_count": null,
   "id": "bd28c7c0",
   "metadata": {
    "execution": {
     "iopub.execute_input": "2022-07-20T22:00:02.335481Z",
     "iopub.status.busy": "2022-07-20T22:00:02.335079Z",
     "iopub.status.idle": "2022-07-20T22:00:02.387927Z",
     "shell.execute_reply": "2022-07-20T22:00:02.386691Z"
    },
    "papermill": {
     "duration": 0.069384,
     "end_time": "2022-07-20T22:00:02.390573",
     "exception": false,
     "start_time": "2022-07-20T22:00:02.321189",
     "status": "completed"
    },
    "tags": []
   },
   "outputs": [],
   "source": [
    "cutoffs[['degree_short','program_name','institute_short','year']].drop_duplicates().groupby(['degree_short','program_name','year']).size().reset_index(name='no_of_institutes')"
   ]
  },
  {
   "cell_type": "markdown",
   "id": "987b8d70",
   "metadata": {
    "papermill": {
     "duration": 0.012443,
     "end_time": "2022-07-20T22:00:02.416314",
     "exception": false,
     "start_time": "2022-07-20T22:00:02.403871",
     "status": "completed"
    },
    "tags": []
   },
   "source": [
    "#### Verifying if the above data is correct. Let's check for Int Msc. Mathematics course for the year 2021"
   ]
  },
  {
   "cell_type": "code",
   "execution_count": null,
   "id": "66122b8f",
   "metadata": {
    "execution": {
     "iopub.execute_input": "2022-07-20T22:00:02.444000Z",
     "iopub.status.busy": "2022-07-20T22:00:02.443577Z",
     "iopub.status.idle": "2022-07-20T22:00:02.464023Z",
     "shell.execute_reply": "2022-07-20T22:00:02.462796Z"
    },
    "papermill": {
     "duration": 0.037861,
     "end_time": "2022-07-20T22:00:02.467118",
     "exception": false,
     "start_time": "2022-07-20T22:00:02.429257",
     "status": "completed"
    },
    "tags": []
   },
   "outputs": [],
   "source": [
    "# cutoffs[(cutoffs['program_name']=='Mathematics') & (cutoffs['degree_short']== 'Int Msc.') & (cutoffs['year']==2021)]\n",
    "cutoffs.query('program_name == \"Mathematics\" & degree_short == \"Int Msc.\" & year == 2021')['institute_short'].unique()"
   ]
  },
  {
   "cell_type": "markdown",
   "id": "14bd6cca",
   "metadata": {
    "papermill": {
     "duration": 0.013787,
     "end_time": "2022-07-20T22:00:02.495043",
     "exception": false,
     "start_time": "2022-07-20T22:00:02.481256",
     "status": "completed"
    },
    "tags": []
   },
   "source": [
    "Returns only one institute name hence validating our previous result."
   ]
  },
  {
   "cell_type": "markdown",
   "id": "6c9239b6",
   "metadata": {
    "papermill": {
     "duration": 0.013923,
     "end_time": "2022-07-20T22:00:02.522755",
     "exception": false,
     "start_time": "2022-07-20T22:00:02.508832",
     "status": "completed"
    },
    "tags": []
   },
   "source": [
    "#### Cut-Offs of preparatory courses is available for these years"
   ]
  },
  {
   "cell_type": "code",
   "execution_count": null,
   "id": "f7eae332",
   "metadata": {
    "execution": {
     "iopub.execute_input": "2022-07-20T22:00:02.550532Z",
     "iopub.status.busy": "2022-07-20T22:00:02.550082Z",
     "iopub.status.idle": "2022-07-20T22:00:02.559488Z",
     "shell.execute_reply": "2022-07-20T22:00:02.558540Z"
    },
    "papermill": {
     "duration": 0.026536,
     "end_time": "2022-07-20T22:00:02.562203",
     "exception": false,
     "start_time": "2022-07-20T22:00:02.535667",
     "status": "completed"
    },
    "tags": []
   },
   "outputs": [],
   "source": [
    "cutoffs[cutoffs['is_preparatory']==1]['year'].unique()"
   ]
  },
  {
   "cell_type": "markdown",
   "id": "509a7297",
   "metadata": {
    "papermill": {
     "duration": 0.013356,
     "end_time": "2022-07-20T22:00:02.590545",
     "exception": false,
     "start_time": "2022-07-20T22:00:02.577189",
     "status": "completed"
    },
    "tags": []
   },
   "source": [
    "#### The different rounds for which cutoffs are available - per year"
   ]
  },
  {
   "cell_type": "code",
   "execution_count": null,
   "id": "69631e96",
   "metadata": {
    "execution": {
     "iopub.execute_input": "2022-07-20T22:00:02.620230Z",
     "iopub.status.busy": "2022-07-20T22:00:02.619847Z",
     "iopub.status.idle": "2022-07-20T22:00:02.639090Z",
     "shell.execute_reply": "2022-07-20T22:00:02.638125Z"
    },
    "papermill": {
     "duration": 0.036396,
     "end_time": "2022-07-20T22:00:02.641475",
     "exception": false,
     "start_time": "2022-07-20T22:00:02.605079",
     "status": "completed"
    },
    "tags": []
   },
   "outputs": [],
   "source": [
    "cutoffs[['round_no','year']].groupby(['year','round_no']).size().reset_index(name = 'counts')"
   ]
  },
  {
   "cell_type": "markdown",
   "id": "4e9339c8",
   "metadata": {
    "papermill": {
     "duration": 0.013034,
     "end_time": "2022-07-20T22:00:02.667753",
     "exception": false,
     "start_time": "2022-07-20T22:00:02.654719",
     "status": "completed"
    },
    "tags": []
   },
   "source": [
    "This shows that data for only the final rounds are available for previous years."
   ]
  },
  {
   "cell_type": "markdown",
   "id": "9db6bcd2",
   "metadata": {
    "papermill": {
     "duration": 0.012978,
     "end_time": "2022-07-20T22:00:02.694136",
     "exception": false,
     "start_time": "2022-07-20T22:00:02.681158",
     "status": "completed"
    },
    "tags": []
   },
   "source": [
    "### 4. Let's look at some interesting information!"
   ]
  },
  {
   "cell_type": "markdown",
   "id": "12bbe769",
   "metadata": {
    "papermill": {
     "duration": 0.013072,
     "end_time": "2022-07-20T22:00:02.721096",
     "exception": false,
     "start_time": "2022-07-20T22:00:02.708024",
     "status": "completed"
    },
    "tags": []
   },
   "source": [
    "**Reservation For Girls**: From the year 2018 to increase the admission of female candidates in the premier engineering colleges in the country by implementing IIT reservation for girls. This doesn't affect the existing no. of seats already present for boys. \n",
    "\n",
    "Based on this - let's look at how the admissions to different programs have increased in this category over years across institutes."
   ]
  },
  {
   "cell_type": "markdown",
   "id": "0e7e9c4f",
   "metadata": {
    "papermill": {
     "duration": 0.013054,
     "end_time": "2022-07-20T22:00:02.747699",
     "exception": false,
     "start_time": "2022-07-20T22:00:02.734645",
     "status": "completed"
    },
    "tags": []
   },
   "source": [
    "#### For ease of analysis, let's create another dataframe with 'Female-Only' pool data\n"
   ]
  },
  {
   "cell_type": "code",
   "execution_count": null,
   "id": "b0532dce",
   "metadata": {
    "execution": {
     "iopub.execute_input": "2022-07-20T22:00:02.776676Z",
     "iopub.status.busy": "2022-07-20T22:00:02.776221Z",
     "iopub.status.idle": "2022-07-20T22:00:02.807717Z",
     "shell.execute_reply": "2022-07-20T22:00:02.806681Z"
    },
    "papermill": {
     "duration": 0.048892,
     "end_time": "2022-07-20T22:00:02.810422",
     "exception": false,
     "start_time": "2022-07-20T22:00:02.761530",
     "status": "completed"
    },
    "tags": []
   },
   "outputs": [],
   "source": [
    "GirlsOnlySeats = cutoffs[cutoffs['pool']=='Female-Only'].groupby(['institute_short','year']).size().reset_index(name='seat_type_counts')\n",
    "GirlsOnlySeats.head(5)"
   ]
  },
  {
   "cell_type": "markdown",
   "id": "5f306447",
   "metadata": {
    "execution": {
     "iopub.execute_input": "2022-07-20T21:11:41.021322Z",
     "iopub.status.busy": "2022-07-20T21:11:41.020883Z",
     "iopub.status.idle": "2022-07-20T21:11:41.026533Z",
     "shell.execute_reply": "2022-07-20T21:11:41.025046Z",
     "shell.execute_reply.started": "2022-07-20T21:11:41.021285Z"
    },
    "papermill": {
     "duration": 0.013359,
     "end_time": "2022-07-20T22:00:02.837217",
     "exception": false,
     "start_time": "2022-07-20T22:00:02.823858",
     "status": "completed"
    },
    "tags": []
   },
   "source": [
    "#### Let's try to plot the Female Only pool admission type counts over the years. \n",
    "Choose from the *Year* index to display all or selected years. "
   ]
  },
  {
   "cell_type": "code",
   "execution_count": null,
   "id": "05ee7563",
   "metadata": {
    "execution": {
     "iopub.execute_input": "2022-07-20T22:00:02.867656Z",
     "iopub.status.busy": "2022-07-20T22:00:02.866914Z",
     "iopub.status.idle": "2022-07-20T22:00:04.155857Z",
     "shell.execute_reply": "2022-07-20T22:00:04.154664Z"
    },
    "papermill": {
     "duration": 1.3076,
     "end_time": "2022-07-20T22:00:04.158623",
     "exception": false,
     "start_time": "2022-07-20T22:00:02.851023",
     "status": "completed"
    },
    "tags": []
   },
   "outputs": [],
   "source": [
    "fig = px.line(GirlsOnlySeats, x=\"institute_short\", y=\"seat_type_counts\", color='year',markers=True, labels={'institute_short':'Institute Name', 'seat_type_counts':'Female Only Admission Type#', 'year' :'Year'})\n",
    "fig.show()"
   ]
  },
  {
   "cell_type": "markdown",
   "id": "0c9fa012",
   "metadata": {
    "papermill": {
     "duration": 0.014604,
     "end_time": "2022-07-20T22:00:04.187565",
     "exception": false,
     "start_time": "2022-07-20T22:00:04.172961",
     "status": "completed"
    },
    "tags": []
   },
   "source": [
    "If we select only the year '2018' we can see that there are no seats in this category in the NITs. From 2019 there are such seats across all colleges"
   ]
  },
  {
   "cell_type": "markdown",
   "id": "0b3dceb5",
   "metadata": {
    "papermill": {
     "duration": 0.01421,
     "end_time": "2022-07-20T22:00:04.216006",
     "exception": false,
     "start_time": "2022-07-20T22:00:04.201796",
     "status": "completed"
    },
    "tags": []
   },
   "source": [
    "### 5. Analyse the cut-offs for 2021!\n",
    "\n",
    "Trying to analyse the cut-offs together for NITs and IITs might not project the correct information - say if we take the average opening rank / closing rank per year. The reason for this being - the range (ie, min/max values) is very wide. So let's try looking at it separately."
   ]
  },
  {
   "cell_type": "markdown",
   "id": "093160e2",
   "metadata": {
    "papermill": {
     "duration": 0.013713,
     "end_time": "2022-07-20T22:00:04.244239",
     "exception": false,
     "start_time": "2022-07-20T22:00:04.230526",
     "status": "completed"
    },
    "tags": []
   },
   "source": [
    "#### Let's look at the cut-offs for B.Tech programs from IITs for the year 2021\n",
    "\n",
    "##### Creating a new dataframe for ease of analysis with just the required data"
   ]
  },
  {
   "cell_type": "code",
   "execution_count": null,
   "id": "2d610eca",
   "metadata": {
    "execution": {
     "iopub.execute_input": "2022-07-20T22:00:04.277391Z",
     "iopub.status.busy": "2022-07-20T22:00:04.276767Z",
     "iopub.status.idle": "2022-07-20T22:00:04.309024Z",
     "shell.execute_reply": "2022-07-20T22:00:04.307865Z"
    },
    "papermill": {
     "duration": 0.051508,
     "end_time": "2022-07-20T22:00:04.311697",
     "exception": false,
     "start_time": "2022-07-20T22:00:04.260189",
     "status": "completed"
    },
    "tags": []
   },
   "outputs": [],
   "source": [
    "iit_cutoffs_2021 = cutoffs[(cutoffs[\"year\"] == 2021)  & (cutoffs[\"institute_type\"]=='IIT') & (cutoffs['degree_short']=='B.Tech')]\n"
   ]
  },
  {
   "cell_type": "markdown",
   "id": "93a70c0b",
   "metadata": {
    "papermill": {
     "duration": 0.013799,
     "end_time": "2022-07-20T22:00:04.340233",
     "exception": false,
     "start_time": "2022-07-20T22:00:04.326434",
     "status": "completed"
    },
    "tags": []
   },
   "source": [
    "##### Let's look at the range of opening ranks"
   ]
  },
  {
   "cell_type": "code",
   "execution_count": null,
   "id": "05ff11d6",
   "metadata": {
    "execution": {
     "iopub.execute_input": "2022-07-20T22:00:04.371666Z",
     "iopub.status.busy": "2022-07-20T22:00:04.370994Z",
     "iopub.status.idle": "2022-07-20T22:00:04.378615Z",
     "shell.execute_reply": "2022-07-20T22:00:04.376958Z"
    },
    "papermill": {
     "duration": 0.026955,
     "end_time": "2022-07-20T22:00:04.381230",
     "exception": false,
     "start_time": "2022-07-20T22:00:04.354275",
     "status": "completed"
    },
    "tags": []
   },
   "outputs": [],
   "source": [
    "print('Min:',iit_cutoffs_2021['opening_rank'].min(),'Max:',iit_cutoffs_2021['opening_rank'].max())"
   ]
  },
  {
   "cell_type": "markdown",
   "id": "1985e8c0",
   "metadata": {
    "papermill": {
     "duration": 0.013825,
     "end_time": "2022-07-20T22:00:04.409588",
     "exception": false,
     "start_time": "2022-07-20T22:00:04.395763",
     "status": "completed"
    },
    "tags": []
   },
   "source": [
    "##### This is a box plot of Opening Ranks for each IITs for different B.Tech courses (irrespective of categories)"
   ]
  },
  {
   "cell_type": "code",
   "execution_count": null,
   "id": "aa6474c1",
   "metadata": {
    "execution": {
     "iopub.execute_input": "2022-07-20T22:00:04.440012Z",
     "iopub.status.busy": "2022-07-20T22:00:04.438984Z",
     "iopub.status.idle": "2022-07-20T22:00:04.930820Z",
     "shell.execute_reply": "2022-07-20T22:00:04.929497Z"
    },
    "papermill": {
     "duration": 0.543821,
     "end_time": "2022-07-20T22:00:04.967380",
     "exception": false,
     "start_time": "2022-07-20T22:00:04.423559",
     "status": "completed"
    },
    "tags": []
   },
   "outputs": [],
   "source": [
    "fig = px.box(iit_cutoffs_2021, x=\"opening_rank\", y=\"institute_short\",hover_data=['degree_short','program_name'], labels={'institute_short':'Institute Name', 'opening_rank':'Opening Rank'})\n",
    "fig.show()"
   ]
  },
  {
   "cell_type": "markdown",
   "id": "37eecec0",
   "metadata": {
    "papermill": {
     "duration": 0.026923,
     "end_time": "2022-07-20T22:00:05.021609",
     "exception": false,
     "start_time": "2022-07-20T22:00:04.994686",
     "status": "completed"
    },
    "tags": []
   },
   "source": [
    "We can hover over the box plot to get the range, median, IQR and outlier opening rank details."
   ]
  },
  {
   "cell_type": "markdown",
   "id": "6d8cbb45",
   "metadata": {
    "papermill": {
     "duration": 0.026243,
     "end_time": "2022-07-20T22:00:05.073750",
     "exception": false,
     "start_time": "2022-07-20T22:00:05.047507",
     "status": "completed"
    },
    "tags": []
   },
   "source": [
    "##### This is a box plot of Closing Ranks for each IITs for different B.Tech courses (irrespective of categories)"
   ]
  },
  {
   "cell_type": "code",
   "execution_count": null,
   "id": "fa4410a5",
   "metadata": {
    "execution": {
     "iopub.execute_input": "2022-07-20T22:00:05.128535Z",
     "iopub.status.busy": "2022-07-20T22:00:05.127893Z",
     "iopub.status.idle": "2022-07-20T22:00:05.443971Z",
     "shell.execute_reply": "2022-07-20T22:00:05.443087Z"
    },
    "papermill": {
     "duration": 0.375165,
     "end_time": "2022-07-20T22:00:05.475130",
     "exception": false,
     "start_time": "2022-07-20T22:00:05.099965",
     "status": "completed"
    },
    "tags": []
   },
   "outputs": [],
   "source": [
    "fig = px.box(iit_cutoffs_2021, y=\"institute_short\", x=\"closing_rank\", hover_data=['degree_short','program_name'],labels={'institute_short':'Institute Name', 'closing_rank':'Closing Rank'})\n",
    "fig.show()"
   ]
  },
  {
   "cell_type": "markdown",
   "id": "af585456",
   "metadata": {
    "papermill": {
     "duration": 0.04045,
     "end_time": "2022-07-20T22:00:05.555616",
     "exception": false,
     "start_time": "2022-07-20T22:00:05.515166",
     "status": "completed"
    },
    "tags": []
   },
   "source": [
    "We can hover over the box plot to get the range, median, IQR and outlier closing rank details.\n"
   ]
  },
  {
   "cell_type": "markdown",
   "id": "a60d6e4d",
   "metadata": {
    "papermill": {
     "duration": 0.040624,
     "end_time": "2022-07-20T22:00:05.636927",
     "exception": false,
     "start_time": "2022-07-20T22:00:05.596303",
     "status": "completed"
    },
    "tags": []
   },
   "source": [
    "#### Let's look at the cut-offs for NITs for the year 2021\n",
    "##### Creating a new dataframe for ease of analysis with just the required data"
   ]
  },
  {
   "cell_type": "code",
   "execution_count": null,
   "id": "03837dcf",
   "metadata": {
    "execution": {
     "iopub.execute_input": "2022-07-20T22:00:05.720264Z",
     "iopub.status.busy": "2022-07-20T22:00:05.719584Z",
     "iopub.status.idle": "2022-07-20T22:00:05.750061Z",
     "shell.execute_reply": "2022-07-20T22:00:05.749105Z"
    },
    "papermill": {
     "duration": 0.075126,
     "end_time": "2022-07-20T22:00:05.752579",
     "exception": false,
     "start_time": "2022-07-20T22:00:05.677453",
     "status": "completed"
    },
    "tags": []
   },
   "outputs": [],
   "source": [
    "nit_cutoffs_2021 = cutoffs[(cutoffs[\"year\"] == 2021) & (cutoffs[\"institute_type\"]=='NIT') & (cutoffs['degree_short']=='B.Tech')]"
   ]
  },
  {
   "cell_type": "markdown",
   "id": "368496bf",
   "metadata": {
    "papermill": {
     "duration": 0.04039,
     "end_time": "2022-07-20T22:00:05.833081",
     "exception": false,
     "start_time": "2022-07-20T22:00:05.792691",
     "status": "completed"
    },
    "tags": []
   },
   "source": [
    "##### Let's look at the range of opening ranks"
   ]
  },
  {
   "cell_type": "code",
   "execution_count": null,
   "id": "68f6f1ed",
   "metadata": {
    "execution": {
     "iopub.execute_input": "2022-07-20T22:00:05.921181Z",
     "iopub.status.busy": "2022-07-20T22:00:05.920474Z",
     "iopub.status.idle": "2022-07-20T22:00:05.927859Z",
     "shell.execute_reply": "2022-07-20T22:00:05.925629Z"
    },
    "papermill": {
     "duration": 0.056423,
     "end_time": "2022-07-20T22:00:05.930917",
     "exception": false,
     "start_time": "2022-07-20T22:00:05.874494",
     "status": "completed"
    },
    "tags": []
   },
   "outputs": [],
   "source": [
    "print('Min:',nit_cutoffs_2021['opening_rank'].min(),'Max:',nit_cutoffs_2021['opening_rank'].max())"
   ]
  },
  {
   "cell_type": "markdown",
   "id": "ff55dc4f",
   "metadata": {
    "papermill": {
     "duration": 0.040729,
     "end_time": "2022-07-20T22:00:06.013025",
     "exception": false,
     "start_time": "2022-07-20T22:00:05.972296",
     "status": "completed"
    },
    "tags": []
   },
   "source": [
    "Comparing this range with that of IITs - we can see that an aggregate analysis ignoring the type of institute might not be right in all cases."
   ]
  },
  {
   "cell_type": "markdown",
   "id": "9d8f8d35",
   "metadata": {
    "papermill": {
     "duration": 0.040927,
     "end_time": "2022-07-20T22:00:06.095692",
     "exception": false,
     "start_time": "2022-07-20T22:00:06.054765",
     "status": "completed"
    },
    "tags": []
   },
   "source": [
    "##### This is a box plot of Opening Ranks for each NITs for different B.Tech courses (irrespective of categories)\n",
    "As the range of values of opening_rank is huge, the y-axis is scaled accordingly."
   ]
  },
  {
   "cell_type": "code",
   "execution_count": null,
   "id": "cfab1cda",
   "metadata": {
    "execution": {
     "iopub.execute_input": "2022-07-20T22:00:06.178706Z",
     "iopub.status.busy": "2022-07-20T22:00:06.177929Z",
     "iopub.status.idle": "2022-07-20T22:00:06.587227Z",
     "shell.execute_reply": "2022-07-20T22:00:06.585936Z"
    },
    "papermill": {
     "duration": 0.494988,
     "end_time": "2022-07-20T22:00:06.631019",
     "exception": false,
     "start_time": "2022-07-20T22:00:06.136031",
     "status": "completed"
    },
    "tags": []
   },
   "outputs": [],
   "source": [
    "fig = px.box(nit_cutoffs_2021, y=\"opening_rank\", x=\"institute_short\",hover_data=['degree_short','program_name'],labels={'institute_short':'Institute Name', 'opening_rank':'Opening Rank'} )\n",
    "fig.update_yaxes(type='log',tick0=0, dtick=2)\n",
    "fig.show()"
   ]
  },
  {
   "cell_type": "markdown",
   "id": "911fae32",
   "metadata": {
    "papermill": {
     "duration": 0.059895,
     "end_time": "2022-07-20T22:00:06.748655",
     "exception": false,
     "start_time": "2022-07-20T22:00:06.688760",
     "status": "completed"
    },
    "tags": []
   },
   "source": [
    "We can hover over the box plot to get the range, median, IQR and outlier opening rank details."
   ]
  },
  {
   "cell_type": "markdown",
   "id": "af64ecfc",
   "metadata": {
    "papermill": {
     "duration": 0.058998,
     "end_time": "2022-07-20T22:00:06.866731",
     "exception": false,
     "start_time": "2022-07-20T22:00:06.807733",
     "status": "completed"
    },
    "tags": []
   },
   "source": [
    "##### This is a box plot of Closing Ranks for each NITs for different B.Tech courses (irrespective of categories)\n",
    "As the range of values of opening_rank is wider, the y-axis is scaled accordingly"
   ]
  },
  {
   "cell_type": "code",
   "execution_count": null,
   "id": "6a78b626",
   "metadata": {
    "execution": {
     "iopub.execute_input": "2022-07-20T22:00:06.988234Z",
     "iopub.status.busy": "2022-07-20T22:00:06.987805Z",
     "iopub.status.idle": "2022-07-20T22:00:07.519764Z",
     "shell.execute_reply": "2022-07-20T22:00:07.518509Z"
    },
    "papermill": {
     "duration": 0.636787,
     "end_time": "2022-07-20T22:00:07.562224",
     "exception": false,
     "start_time": "2022-07-20T22:00:06.925437",
     "status": "completed"
    },
    "tags": []
   },
   "outputs": [],
   "source": [
    "fig = px.box(nit_cutoffs_2021, y=\"closing_rank\", x=\"institute_short\",hover_data=['degree_short','program_name'],labels={'institute_short':'Institute Name', 'closing_rank':'Closing Rank'} )\n",
    "fig.update_yaxes(type='log',tick0=0, dtick=2)\n",
    "fig.show()"
   ]
  },
  {
   "cell_type": "markdown",
   "id": "3e2a8edf",
   "metadata": {
    "papermill": {
     "duration": 0.091792,
     "end_time": "2022-07-20T22:00:07.735789",
     "exception": false,
     "start_time": "2022-07-20T22:00:07.643997",
     "status": "completed"
    },
    "tags": []
   },
   "source": [
    "We can hover over the box plot to get the range, median, IQR and outlier closing rank details."
   ]
  },
  {
   "cell_type": "markdown",
   "id": "4a21fdc5",
   "metadata": {
    "papermill": {
     "duration": 0.075249,
     "end_time": "2022-07-20T22:00:07.891977",
     "exception": false,
     "start_time": "2022-07-20T22:00:07.816728",
     "status": "completed"
    },
    "tags": []
   },
   "source": [
    "### 6. Conclusion\n",
    "\n",
    "From the simple analysis done, we could see the following:\n",
    "1. The admissions in the category of Female Only pool is increasing by each passing year - there by working towards addressing the gender gaps in premier institutes as well as promoting higher education for women.\n",
    "2. The difference in the range of cut-offs for IITs and NITs. Eg. The maximum closing rank across IITs was 22715 and NITs was 802997 for B.Tech programs in the year 2021 without considering any quotas/categories.\n",
    "3. Older institutes in each types (eg: IIT Bombay, IIT Madras, IIT Kharagpur etc.) (eg: NIT - Surathkal, Rourkela, Allahabad etc.)  have a lesser range/higher cut-offs of ranks compared to newer institutes in the same category."
   ]
  }
 ],
 "metadata": {
  "kernelspec": {
   "display_name": "Python 3 (ipykernel)",
   "language": "python",
   "name": "python3"
  },
  "language_info": {
   "codemirror_mode": {
    "name": "ipython",
    "version": 3
   },
   "file_extension": ".py",
   "mimetype": "text/x-python",
   "name": "python",
   "nbconvert_exporter": "python",
   "pygments_lexer": "ipython3",
   "version": "3.9.7"
  },
  "papermill": {
   "default_parameters": {},
   "duration": 20.714615,
   "end_time": "2022-07-20T22:00:08.962585",
   "environment_variables": {},
   "exception": null,
   "input_path": "__notebook__.ipynb",
   "output_path": "__notebook__.ipynb",
   "parameters": {},
   "start_time": "2022-07-20T21:59:48.247970",
   "version": "2.3.4"
  }
 },
 "nbformat": 4,
 "nbformat_minor": 5
}
